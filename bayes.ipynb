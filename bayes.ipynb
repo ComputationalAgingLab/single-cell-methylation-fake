{
 "cells": [
  {
   "cell_type": "code",
   "execution_count": 382,
   "metadata": {},
   "outputs": [],
   "source": [
    "import numpy as np\n",
    "from matplotlib import pyplot as plt\n",
    "import pandas as pd\n",
    "from scipy.special import expit, gamma\n",
    "\n",
    "def compute_cpg_posterior(w, b, phi, c, prior_c, t=None, x=None, normalized=True):\n",
    "    t = t if t is not None else np.linspace(-100, 100, 100)[:, None]\n",
    "    x = x if x is not None else np.linspace(0.01, 0.99, 100)[None, :]\n",
    "    assert len(t.shape) == 2, 't is expected to be column vector \\in 2D' \n",
    "    assert len(x.shape) == 2, 't is expected to be row vector \\in 2D' \n",
    "    dt = t[1, 0] - t[0, 0]\n",
    "    dx = x[0, 1] - x[0, 0]\n",
    "\n",
    "    mu = expit(w*t + b)\n",
    "    alpha = mu * phi\n",
    "    beta = -mu * phi + phi\n",
    "    B = gamma(alpha) * gamma(beta) / gamma(alpha + beta)\n",
    "    pt = np.ones_like(t) * 1 / (t[-1] - t[0]) # P(t)    \n",
    "    px = x**(alpha-1) * (1 - x)**(beta-1) / B # P(p|t)\n",
    "    likelihood = mu ** c * (1 - mu) ** (1 - c)\n",
    "    posterior = likelihood * px * pt / prior_c\n",
    "    marginal_posterior = posterior.sum(1) * dx \n",
    "    if normalized:\n",
    "        marginal_posterior = marginal_posterior / (marginal_posterior.sum() * dt)\n",
    "    return t.ravel(), marginal_posterior\n"
   ]
  },
  {
   "cell_type": "code",
   "execution_count": 424,
   "metadata": {},
   "outputs": [
    {
     "name": "stderr",
     "output_type": "stream",
     "text": [
      "/tmp/ipykernel_4116/267271956.py:3: FutureWarning: The behavior of `series[i:j]` with an integer-dtype index is deprecated. In a future version, this will be treated as *label-based* indexing, consistent with e.g. `series[i]` lookups. To retain the old behavior, use `series.iloc[i:j]`. To get the future behavior, use `series.loc[i:j]`.\n",
      "  top_idx_pos = clocks['Age-pvalue'].sort_values(ascending=True)[:top].index\n"
     ]
    },
    {
     "data": {
      "text/html": [
       "<div>\n",
       "<style scoped>\n",
       "    .dataframe tbody tr th:only-of-type {\n",
       "        vertical-align: middle;\n",
       "    }\n",
       "\n",
       "    .dataframe tbody tr th {\n",
       "        vertical-align: top;\n",
       "    }\n",
       "\n",
       "    .dataframe thead th {\n",
       "        text-align: right;\n",
       "    }\n",
       "</style>\n",
       "<table border=\"1\" class=\"dataframe\">\n",
       "  <thead>\n",
       "    <tr style=\"text-align: right;\">\n",
       "      <th></th>\n",
       "      <th>ChrPos</th>\n",
       "      <th>PearsonR</th>\n",
       "      <th>PearsonP</th>\n",
       "      <th>Coef</th>\n",
       "      <th>Intercept</th>\n",
       "      <th>Precision</th>\n",
       "      <th>Age-pvalue</th>\n",
       "      <th>Precision-pvalue</th>\n",
       "      <th>Log-Likelihood</th>\n",
       "      <th>AIC</th>\n",
       "      <th>BIC</th>\n",
       "    </tr>\n",
       "  </thead>\n",
       "  <tbody>\n",
       "    <tr>\n",
       "      <th>423606</th>\n",
       "      <td>chr4_147443094</td>\n",
       "      <td>0.273295</td>\n",
       "      <td>1.832241e-10</td>\n",
       "      <td>0.0350</td>\n",
       "      <td>-3.0483</td>\n",
       "      <td>2.9519</td>\n",
       "      <td>0.000</td>\n",
       "      <td>0.0</td>\n",
       "      <td>926.86</td>\n",
       "      <td>-1848.0</td>\n",
       "      <td>-1835.0</td>\n",
       "    </tr>\n",
       "    <tr>\n",
       "      <th>400475</th>\n",
       "      <td>chr4_81442439</td>\n",
       "      <td>0.239432</td>\n",
       "      <td>1.387620e-08</td>\n",
       "      <td>0.0229</td>\n",
       "      <td>-4.8924</td>\n",
       "      <td>3.9810</td>\n",
       "      <td>0.000</td>\n",
       "      <td>0.0</td>\n",
       "      <td>2107.50</td>\n",
       "      <td>-4209.0</td>\n",
       "      <td>-4196.0</td>\n",
       "    </tr>\n",
       "    <tr>\n",
       "      <th>341683</th>\n",
       "      <td>chr2_138256822</td>\n",
       "      <td>0.237782</td>\n",
       "      <td>4.864221e-08</td>\n",
       "      <td>0.0232</td>\n",
       "      <td>-4.3139</td>\n",
       "      <td>3.4241</td>\n",
       "      <td>0.000</td>\n",
       "      <td>0.0</td>\n",
       "      <td>1675.20</td>\n",
       "      <td>-3344.0</td>\n",
       "      <td>-3332.0</td>\n",
       "    </tr>\n",
       "    <tr>\n",
       "      <th>281078</th>\n",
       "      <td>chr18_64332179</td>\n",
       "      <td>0.123794</td>\n",
       "      <td>2.223050e-02</td>\n",
       "      <td>0.0353</td>\n",
       "      <td>-3.2160</td>\n",
       "      <td>2.5705</td>\n",
       "      <td>0.000</td>\n",
       "      <td>0.0</td>\n",
       "      <td>657.67</td>\n",
       "      <td>-1309.0</td>\n",
       "      <td>-1298.0</td>\n",
       "    </tr>\n",
       "    <tr>\n",
       "      <th>380096</th>\n",
       "      <td>chr3_118435325</td>\n",
       "      <td>0.213593</td>\n",
       "      <td>3.030527e-04</td>\n",
       "      <td>0.0378</td>\n",
       "      <td>-2.8010</td>\n",
       "      <td>2.6078</td>\n",
       "      <td>0.000</td>\n",
       "      <td>0.0</td>\n",
       "      <td>417.73</td>\n",
       "      <td>-829.5</td>\n",
       "      <td>-818.5</td>\n",
       "    </tr>\n",
       "    <tr>\n",
       "      <th>...</th>\n",
       "      <td>...</td>\n",
       "      <td>...</td>\n",
       "      <td>...</td>\n",
       "      <td>...</td>\n",
       "      <td>...</td>\n",
       "      <td>...</td>\n",
       "      <td>...</td>\n",
       "      <td>...</td>\n",
       "      <td>...</td>\n",
       "      <td>...</td>\n",
       "      <td>...</td>\n",
       "    </tr>\n",
       "    <tr>\n",
       "      <th>284691</th>\n",
       "      <td>chr18_77456602</td>\n",
       "      <td>-0.139868</td>\n",
       "      <td>1.239759e-02</td>\n",
       "      <td>-0.0266</td>\n",
       "      <td>3.2350</td>\n",
       "      <td>2.8386</td>\n",
       "      <td>0.001</td>\n",
       "      <td>0.0</td>\n",
       "      <td>636.96</td>\n",
       "      <td>-1268.0</td>\n",
       "      <td>-1257.0</td>\n",
       "    </tr>\n",
       "    <tr>\n",
       "      <th>625226</th>\n",
       "      <td>chr2_18688862</td>\n",
       "      <td>0.249825</td>\n",
       "      <td>3.002714e-06</td>\n",
       "      <td>0.0235</td>\n",
       "      <td>-3.8163</td>\n",
       "      <td>2.8130</td>\n",
       "      <td>0.001</td>\n",
       "      <td>0.0</td>\n",
       "      <td>973.22</td>\n",
       "      <td>-1940.0</td>\n",
       "      <td>-1929.0</td>\n",
       "    </tr>\n",
       "    <tr>\n",
       "      <th>621803</th>\n",
       "      <td>chr15_103059449</td>\n",
       "      <td>0.185722</td>\n",
       "      <td>9.089334e-04</td>\n",
       "      <td>0.0228</td>\n",
       "      <td>-3.0227</td>\n",
       "      <td>2.6746</td>\n",
       "      <td>0.001</td>\n",
       "      <td>0.0</td>\n",
       "      <td>580.43</td>\n",
       "      <td>-1155.0</td>\n",
       "      <td>-1144.0</td>\n",
       "    </tr>\n",
       "    <tr>\n",
       "      <th>37968</th>\n",
       "      <td>chr10_3621588</td>\n",
       "      <td>-0.165122</td>\n",
       "      <td>4.766597e-04</td>\n",
       "      <td>-0.0210</td>\n",
       "      <td>3.3352</td>\n",
       "      <td>3.0719</td>\n",
       "      <td>0.001</td>\n",
       "      <td>0.0</td>\n",
       "      <td>951.48</td>\n",
       "      <td>-1897.0</td>\n",
       "      <td>-1885.0</td>\n",
       "    </tr>\n",
       "    <tr>\n",
       "      <th>401024</th>\n",
       "      <td>chr4_84674513</td>\n",
       "      <td>0.174736</td>\n",
       "      <td>4.038472e-05</td>\n",
       "      <td>0.0189</td>\n",
       "      <td>-4.3269</td>\n",
       "      <td>3.6097</td>\n",
       "      <td>0.001</td>\n",
       "      <td>0.0</td>\n",
       "      <td>1771.10</td>\n",
       "      <td>-3536.0</td>\n",
       "      <td>-3523.0</td>\n",
       "    </tr>\n",
       "  </tbody>\n",
       "</table>\n",
       "<p>5000 rows × 11 columns</p>\n",
       "</div>"
      ],
      "text/plain": [
       "                 ChrPos  PearsonR      PearsonP    Coef  Intercept  Precision  \\\n",
       "423606   chr4_147443094  0.273295  1.832241e-10  0.0350    -3.0483     2.9519   \n",
       "400475    chr4_81442439  0.239432  1.387620e-08  0.0229    -4.8924     3.9810   \n",
       "341683   chr2_138256822  0.237782  4.864221e-08  0.0232    -4.3139     3.4241   \n",
       "281078   chr18_64332179  0.123794  2.223050e-02  0.0353    -3.2160     2.5705   \n",
       "380096   chr3_118435325  0.213593  3.030527e-04  0.0378    -2.8010     2.6078   \n",
       "...                 ...       ...           ...     ...        ...        ...   \n",
       "284691   chr18_77456602 -0.139868  1.239759e-02 -0.0266     3.2350     2.8386   \n",
       "625226    chr2_18688862  0.249825  3.002714e-06  0.0235    -3.8163     2.8130   \n",
       "621803  chr15_103059449  0.185722  9.089334e-04  0.0228    -3.0227     2.6746   \n",
       "37968     chr10_3621588 -0.165122  4.766597e-04 -0.0210     3.3352     3.0719   \n",
       "401024    chr4_84674513  0.174736  4.038472e-05  0.0189    -4.3269     3.6097   \n",
       "\n",
       "        Age-pvalue  Precision-pvalue  Log-Likelihood     AIC     BIC  \n",
       "423606       0.000               0.0          926.86 -1848.0 -1835.0  \n",
       "400475       0.000               0.0         2107.50 -4209.0 -4196.0  \n",
       "341683       0.000               0.0         1675.20 -3344.0 -3332.0  \n",
       "281078       0.000               0.0          657.67 -1309.0 -1298.0  \n",
       "380096       0.000               0.0          417.73  -829.5  -818.5  \n",
       "...            ...               ...             ...     ...     ...  \n",
       "284691       0.001               0.0          636.96 -1268.0 -1257.0  \n",
       "625226       0.001               0.0          973.22 -1940.0 -1929.0  \n",
       "621803       0.001               0.0          580.43 -1155.0 -1144.0  \n",
       "37968        0.001               0.0          951.48 -1897.0 -1885.0  \n",
       "401024       0.001               0.0         1771.10 -3536.0 -3523.0  \n",
       "\n",
       "[5000 rows x 11 columns]"
      ]
     },
     "execution_count": 424,
     "metadata": {},
     "output_type": "execute_result"
    }
   ],
   "source": [
    "top = 5000\n",
    "clocks = pd.read_csv('clock_data/beta.csv') \n",
    "top_idx_pos = clocks['Age-pvalue'].sort_values(ascending=True)[:top].index\n",
    "top_idx = top_idx_pos.tolist()\n",
    "top_sites = clocks.loc[top_idx]\n",
    "top_sites"
   ]
  },
  {
   "attachments": {},
   "cell_type": "markdown",
   "metadata": {},
   "source": [
    "Write Bayes formula for one CpG:\n",
    "$$\n",
    "    P(t, \\hat{p}|CpG_i) = \\frac{P(CpG_i|\\hat{p}, t)P(\\hat{p}|t)P(t)}{P(CpG_i)}\n",
    "$$\n",
    "\n",
    "Marginalization over $\\hat{p}$ leads to the marginal posterior distribution of $t$, namely:\n",
    "$$\n",
    "    P(t|CpG_i) = \\int_0^1 P(t, \\hat{p}|CpG_i)d\\hat{p}\n",
    "$$"
   ]
  },
  {
   "cell_type": "code",
   "execution_count": 452,
   "metadata": {},
   "outputs": [
    {
     "data": {
      "text/plain": [
       "87.55020080321287"
      ]
     },
     "execution_count": 452,
     "metadata": {},
     "output_type": "execute_result"
    },
    {
     "data": {
      "image/png": "[encoded data removed]",
      "text/plain": [
       "<Figure size 432x288 with 1 Axes>"
      ]
     },
     "metadata": {
      "needs_background": "light"
     },
     "output_type": "display_data"
    }
   ],
   "source": [
    "posteriors = []\n",
    "for i in range(50):\n",
    "    c = np.random.binomial(1, 0.22)\n",
    "    w, b, phi = (top_sites.iloc[i]['Coef'], \n",
    "                top_sites.iloc[i]['Intercept'], \n",
    "                top_sites.iloc[i]['Precision'])\n",
    "    pc = 0.22\n",
    "    t = np.linspace(-200, 200, 250)[:, None]\n",
    "    t, marginal_posterior = compute_cpg_posterior(w, b, phi, c, pc, t=t)\n",
    "    posteriors.append(marginal_posterior)\n",
    "logp = np.log(np.array(posteriors)).sum(0)\n",
    "\n",
    "plt.plot(t, logp)\n",
    "t[np.argmax(logp)]"
   ]
  },
  {
   "cell_type": "code",
   "execution_count": 117,
   "metadata": {},
   "outputs": [
    {
     "data": {
      "text/plain": [
       "array([-39.3258427])"
      ]
     },
     "execution_count": 117,
     "metadata": {},
     "output_type": "execute_result"
    },
    {
     "data": {
      "image/png": "[encoded data removed]",
      "text/plain": [
       "<Figure size 432x288 with 1 Axes>"
      ]
     },
     "metadata": {
      "needs_background": "light"
     },
     "output_type": "display_data"
    }
   ],
   "source": [
    "c = 1 #np.random.randint(0, 2)\n",
    "i = 5\n",
    "t = np.linspace(-100, 100, 90)[:, None]\n",
    "dt = t[1] - t[0]\n",
    "x = np.linspace(0.01, 0.99, 100)[None, :]\n",
    "dx = x[:, 1] - x[:, 0]\n",
    "w, b, phi = (top_sites.iloc[i]['Coef'], \n",
    "            top_sites.iloc[i]['Intercept'], \n",
    "            top_sites.iloc[i]['Precision'])\n",
    "\n",
    "pc = 0.5\n",
    "\n",
    "pt = np.ones_like(t) * 1 / (t[-1] - t[0])\n",
    "mu = expit(w*t + b)\n",
    "alpha = mu * phi\n",
    "beta = -mu * phi + phi\n",
    "B = gamma(alpha) * gamma(beta) / gamma(alpha + beta)\n",
    "\n",
    "px = x**(alpha-1) * (1 - x)**(beta-1) / B\n",
    "likelihood = mu ** c * (1 - mu) ** (1 - c)\n",
    "posterior = likelihood * px * pt / pc\n",
    "marginal_posterior = posterior.sum(1) * dx\n",
    "marginal_posterior = marginal_posterior / (marginal_posterior.sum() * dt)\n",
    "\n",
    "plt.plot(t, marginal_posterior)\n",
    "t[np.argmax(marginal_posterior)]"
   ]
  },
  {
   "cell_type": "code",
   "execution_count": 67,
   "metadata": {},
   "outputs": [
    {
     "data": {
      "text/plain": [
       "[<matplotlib.lines.Line2D at 0x7f0a66597640>]"
      ]
     },
     "execution_count": 67,
     "metadata": {},
     "output_type": "execute_result"
    },
    {
     "data": {
      "image/png": "[encoded data removed]",
      "text/plain": [
       "<Figure size 432x288 with 1 Axes>"
      ]
     },
     "metadata": {
      "needs_background": "light"
     },
     "output_type": "display_data"
    }
   ],
   "source": [
    "plt.plot(convergence)"
   ]
  },
  {
   "cell_type": "code",
   "execution_count": null,
   "metadata": {},
   "outputs": [],
   "source": [
    "\n",
    "m_cells = 100\n",
    "interval_of_search = (-20, 50)\n",
    "\n",
    "#get weights and biases\n",
    "w_ = np.asarray(top_sites['Coef'])\n",
    "b_ = np.asarray(top_sites['Intercept'])\n",
    "\n",
    "probs = np.zeros((m_cells, n_steps))\n",
    "x = np.linspace(interval_of_search[0], interval_of_search[1], n_steps)\n",
    "data = pd.DataFrame({'Ages':[], 'p':[]})\n",
    "for p_met in np.linspace(0, 1.0, 12):\n",
    "    for cell in range(m_cells):\n",
    "        mask = np.random.binomial(1, p=p_met, size=top).astype(bool)\n",
    "        for i, xi in enumerate(x):\n",
    "            p = expit(w_ * xi + b_)\n",
    "            p = np.where(mask, p, 1-p)\n",
    "            probs[cell, i] = np.log(p).sum()\n",
    "\n",
    "    x_opt = np.array([x[i] for i in np.argmax(probs, axis=1)])\n",
    "    data = pd.concat([data, pd.DataFrame({'Ages':x_opt, \"p\":round(p_met, 2)})])"
   ]
  },
  {
   "cell_type": "code",
   "execution_count": 143,
   "metadata": {},
   "outputs": [
    {
     "data": {
      "text/plain": [
       "10.016038048332547"
      ]
     },
     "execution_count": 143,
     "metadata": {},
     "output_type": "execute_result"
    }
   ],
   "source": [
    "\n",
    "\n",
    "p1 = np.random.randn(1000)\n",
    "p2 = np.random.randn(1000) + 10\n",
    "\n",
    "(p1 + p2).mean()"
   ]
  },
  {
   "cell_type": "code",
   "execution_count": 151,
   "metadata": {},
   "outputs": [
    {
     "data": {
      "text/plain": [
       "[<matplotlib.lines.Line2D at 0x7f0a659da670>]"
      ]
     },
     "execution_count": 151,
     "metadata": {},
     "output_type": "execute_result"
    },
    {
     "data": {
      "image/png": "[encoded data removed]",
      "text/plain": [
       "<Figure size 432x288 with 1 Axes>"
      ]
     },
     "metadata": {
      "needs_background": "light"
     },
     "output_type": "display_data"
    }
   ],
   "source": [
    "x = np.linspace(-5,5, 100)\n",
    "dx = x[1] - x[0]\n",
    "p1 = np.exp(-x**2)\n",
    "p1 /= (p1.sum() * dx)\n",
    "p2 = np.exp(-(x-2)**2)\n",
    "p2 /= (p2.sum() * dx)\n",
    "\n",
    "p12 = p1 * p2\n",
    "p12 = p12/(p12.sum() * dx)\n",
    "\n",
    "plt.plot(p1)\n",
    "plt.plot(p2)\n",
    "plt.plot(p12)"
   ]
  }
 ],
 "metadata": {
  "kernelspec": {
   "display_name": "base",
   "language": "python",
   "name": "python3"
  },
  "language_info": {
   "codemirror_mode": {
    "name": "ipython",
    "version": 3
   },
   "file_extension": ".py",
   "mimetype": "text/x-python",
   "name": "python",
   "nbconvert_exporter": "python",
   "pygments_lexer": "ipython3",
   "version": "3.9.12 (main, Apr  5 2022, 06:56:58) \n[GCC 7.5.0]"
  },
  "orig_nbformat": 4,
  "vscode": {
   "interpreter": {
    "hash": "9cc5c02ec159c51136dfe17d30cc7c517e8bd5f837511b190fe7a062de554837"
   }
  }
 },
 "nbformat": 4,
 "nbformat_minor": 2
}
